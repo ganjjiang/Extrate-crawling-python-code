{
 "cells": [
  {
   "cell_type": "code",
   "execution_count": 1,
   "id": "8e2ef1fe",
   "metadata": {},
   "outputs": [],
   "source": [
    "import pandas as pd\n",
    "import numpy as np\n",
    "from bs4 import BeautifulSoup\n",
    "from urllib.request import Request, urlopen\n",
    "import requests\n",
    "from datetime import datetime\n",
    "from functools import reduce"
   ]
  },
  {
   "cell_type": "markdown",
   "id": "7c2f4a86",
   "metadata": {},
   "source": [
    "# DB 연동"
   ]
  },
  {
   "cell_type": "code",
   "execution_count": 2,
   "id": "dfad477f",
   "metadata": {},
   "outputs": [
    {
     "data": {
      "text/plain": [
       "<cx_Oracle.Cursor on <cx_Oracle.Connection to hr@127.0.01:1521/XE>>"
      ]
     },
     "execution_count": 2,
     "metadata": {},
     "output_type": "execute_result"
    }
   ],
   "source": [
    "import cx_Oracle as cx\n",
    "conn = cx.connect(\"hr\",\"hr\",\"127.0.01:1521/XE\") #DB연동\n",
    "cur = conn.cursor()\n",
    "cur.execute(\"select * from employees\") #sql 쿼리 작성\n"
   ]
  },
  {
   "cell_type": "code",
   "execution_count": 3,
   "id": "9bea00eb",
   "metadata": {},
   "outputs": [],
   "source": [
    "def usd_kwr():\n",
    "    url = Request('https://kr.investing.com/currencies/usd-krw', headers={'user-agent': 'Mozilla/5.0 (Windows NT 11.0; WOW64) AppleWebKit/537.36 (KHTML, like Gecko) Chrome/109.0.5414.76 Safari/537.36 NetHelper70'})\n",
    "\n",
    "    bs = BeautifulSoup(urlopen(url), 'html.parser')\n",
    "\n",
    "    usd_kwr= float(bs.select_one('#__next > div.desktop\\:relative.desktop\\:bg-background-default > div > div > div.grid.gap-4.tablet\\:gap-6.grid-cols-4.tablet\\:grid-cols-8.desktop\\:grid-cols-12.grid-container--fixed-desktop.general-layout_main__LHpKS > main > div > div.instrument-header_instrument-header__i63mN.mb-5.bg-background-surface.tablet\\:grid.tablet\\:grid-cols-2 > div:nth-child(2) > div.instrument-price_instrument-price__2w9MW.flex.items-end.flex-wrap.font-bold > span').text.replace(',',''))\n",
    "    \n",
    "    return usd_kwr\n"
   ]
  },
  {
   "cell_type": "code",
   "execution_count": 5,
   "id": "51cd98cc",
   "metadata": {},
   "outputs": [],
   "source": [
    "def dollar_index():\n",
    "    url = Request('https://kr.investing.com/currencies/us-dollar-index', headers={'user-agent': 'Mozilla/5.0 (Windows NT 11.0; WOW64) AppleWebKit/537.36 (KHTML, like Gecko) Chrome/109.0.5414.76 Safari/537.36 NetHelper70'})\n",
    "\n",
    "    bs = BeautifulSoup(urlopen(url), 'html.parser')\n",
    "    dollar_index = float(bs.select_one('#last_last').text.replace(',',''))\n",
    "\n",
    "    return dollar_index\n",
    "    "
   ]
  },
  {
   "cell_type": "code",
   "execution_count": 6,
   "id": "dda310a3",
   "metadata": {},
   "outputs": [],
   "source": [
    "def cny_krw():\n",
    "    url = Request('https://kr.investing.com/currencies/cny-krw', headers={'user-agent': 'Mozilla/5.0 (Windows NT 11.0; WOW64) AppleWebKit/537.36 (KHTML, like Gecko) Chrome/109.0.5414.76 Safari/537.36 NetHelper70'})\n",
    "\n",
    "    bs = BeautifulSoup(urlopen(url), 'html.parser')\n",
    "    cny_krw = float(bs.select_one('#__next > div.desktop\\:relative.desktop\\:bg-background-default > div > div > div.grid.gap-4.tablet\\:gap-6.grid-cols-4.tablet\\:grid-cols-8.desktop\\:grid-cols-12.grid-container--fixed-desktop.general-layout_main__LHpKS > main > div > div.instrument-header_instrument-header__i63mN.mb-5.bg-background-surface.tablet\\:grid.tablet\\:grid-cols-2 > div:nth-child(2) > div.instrument-price_instrument-price__2w9MW.flex.items-end.flex-wrap.font-bold > span').text.replace(',',''))\n",
    "    \n",
    "    return cny_krw"
   ]
  },
  {
   "cell_type": "code",
   "execution_count": 7,
   "id": "6168412c",
   "metadata": {},
   "outputs": [],
   "source": [
    "def eur_krw():\n",
    "    url = Request('https://kr.investing.com/currencies/eur-krw', headers={'user-agent': 'Mozilla/5.0 (Windows NT 11.0; WOW64) AppleWebKit/537.36 (KHTML, like Gecko) Chrome/109.0.5414.76 Safari/537.36 NetHelper70'})\n",
    "\n",
    "    bs = BeautifulSoup(urlopen(url), 'html.parser')\n",
    "    eur_krw = float(bs.select_one('#__next > div.desktop\\:relative.desktop\\:bg-background-default > div > div > div.grid.gap-4.tablet\\:gap-6.grid-cols-4.tablet\\:grid-cols-8.desktop\\:grid-cols-12.grid-container--fixed-desktop.general-layout_main__LHpKS > main > div > div.instrument-header_instrument-header__i63mN.mb-5.bg-background-surface.tablet\\:grid.tablet\\:grid-cols-2 > div:nth-child(2) > div.instrument-price_instrument-price__2w9MW.flex.items-end.flex-wrap.font-bold > span').text.replace(',',''))\n",
    "    \n",
    "    return eur_krw"
   ]
  },
  {
   "cell_type": "code",
   "execution_count": 8,
   "id": "f8811182",
   "metadata": {},
   "outputs": [],
   "source": [
    "def jpy_krw():\n",
    "    url = Request('https://kr.investing.com/currencies/jpy-krw', headers={'user-agent': 'Mozilla/5.0 (Windows NT 11.0; WOW64) AppleWebKit/537.36 (KHTML, like Gecko) Chrome/109.0.5414.76 Safari/537.36 NetHelper70'})\n",
    "\n",
    "    bs = BeautifulSoup(urlopen(url), 'html.parser')\n",
    "    jpy_krw = float(bs.select_one('#__next > div.desktop\\:relative.desktop\\:bg-background-default > div > div > div.grid.gap-4.tablet\\:gap-6.grid-cols-4.tablet\\:grid-cols-8.desktop\\:grid-cols-12.grid-container--fixed-desktop.general-layout_main__LHpKS > main > div > div.instrument-header_instrument-header__i63mN.mb-5.bg-background-surface.tablet\\:grid.tablet\\:grid-cols-2 > div:nth-child(2) > div.instrument-price_instrument-price__2w9MW.flex.items-end.flex-wrap.font-bold > span').text.replace(',',''))\n",
    "    \n",
    "    return jpy_krw"
   ]
  },
  {
   "cell_type": "code",
   "execution_count": 9,
   "id": "3b142f2b",
   "metadata": {},
   "outputs": [],
   "source": [
    "def job():\n",
    "#     dollar_index_time, kospi_200_time, spx_500_time = '00:00:00','00:00:00','00:00:00'\n",
    "#     usd_kwr,  dollar_index, kospi_200,spx_500 = '0','0','0','0'\n",
    "    return usd_kwr(),  dollar_index(), cny_krw(), eur_krw(), jpy_krw()"
   ]
  },
  {
   "cell_type": "code",
   "execution_count": null,
   "id": "bb2c260f",
   "metadata": {},
   "outputs": [],
   "source": [
    "import urllib.error\n",
    "import urllib.request\n",
    "import time\n",
    "from datetime import datetime\n",
    "\n",
    "while True:\n",
    "    try:\n",
    "        current_time = datetime.now()\n",
    "        usd_kwr_value, dollar_index_value, cny_krw_value, eur_krw_value, jpy_krw_value = job()\n",
    "        cur.execute(\"INSERT INTO EXRate (rate_time, usd, cny, jpy, euro, dollar_index) VALUES \"\n",
    "                    \"(:rate_time, :usd, :cny, :jpy, :euro, :dollar_index)\",\n",
    "                    {'rate_time': str(current_time)[:17] + '00',\n",
    "                     'usd': usd_kwr_value,\n",
    "                     'cny': cny_krw_value,\n",
    "                     'jpy': jpy_krw_value,\n",
    "                     'euro': eur_krw_value,\n",
    "                     'dollar_index': dollar_index_value})\n",
    "        cur.execute(\"commit\")\n",
    "\n",
    "    except Exception as e:\n",
    "        # Catch any exceptions that might occur during the job() function or database operations.\n",
    "        # Instead of handling the exception here, we just pass over it silently.\n",
    "        pass\n",
    "\n",
    "    finally:\n",
    "        time.sleep(55)\n"
   ]
  }
 ],
 "metadata": {
  "kernelspec": {
   "display_name": "Python 3 (ipykernel)",
   "language": "python",
   "name": "python3"
  },
  "language_info": {
   "codemirror_mode": {
    "name": "ipython",
    "version": 3
   },
   "file_extension": ".py",
   "mimetype": "text/x-python",
   "name": "python",
   "nbconvert_exporter": "python",
   "pygments_lexer": "ipython3",
   "version": "3.9.13"
  },
  "toc": {
   "base_numbering": 1,
   "nav_menu": {},
   "number_sections": true,
   "sideBar": true,
   "skip_h1_title": false,
   "title_cell": "Table of Contents",
   "title_sidebar": "Contents",
   "toc_cell": false,
   "toc_position": {},
   "toc_section_display": true,
   "toc_window_display": false
  }
 },
 "nbformat": 4,
 "nbformat_minor": 5
}
